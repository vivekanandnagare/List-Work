{
 "cells": [
  {
   "cell_type": "markdown",
   "metadata": {},
   "source": [
    "# List assignments 1"
   ]
  },
  {
   "cell_type": "code",
   "execution_count": 15,
   "metadata": {},
   "outputs": [],
   "source": [
    "#Question:1\n",
    "#1. Let us say your expense for every month are listed below,\n",
    "#1. January -  2200\n",
    "#2. February - 2350\n",
    "#3. March - 2600\n",
    "#4. April - 2130\n",
    "#5. May - 2190\n",
    "\n",
    "Month=[\"jan\",\"Feb\",\"March\",\"April\",\"May\"]\n",
    "exp = [2200,2350,2600,2130,2190]"
   ]
  },
  {
   "cell_type": "code",
   "execution_count": 11,
   "metadata": {},
   "outputs": [
    {
     "name": "stdout",
     "output_type": "stream",
     "text": [
      "how many dollars you spent extra compare to January= 150\n"
     ]
    }
   ],
   "source": [
    "#In Feb, how many dollars you spent extra compare to January?\n",
    "Spend=exp[1]-exp[0]\n",
    "print(\"how many dollars you spent extra compare to January=\",Spend)"
   ]
  },
  {
   "cell_type": "code",
   "execution_count": 86,
   "metadata": {},
   "outputs": [
    {
     "name": "stdout",
     "output_type": "stream",
     "text": [
      "total expense in first quarter= 7150\n"
     ]
    }
   ],
   "source": [
    "#Find out your total expense in first quarter (first three months) of the year.\n",
    "Spend=exp[0]+exp[1]+exp[2]\n",
    "print(\"total expense in first quarter=\",Spend)"
   ]
  },
  {
   "cell_type": "code",
   "execution_count": 87,
   "metadata": {},
   "outputs": [
    {
     "data": {
      "text/plain": [
       "False"
      ]
     },
     "execution_count": 87,
     "metadata": {},
     "output_type": "execute_result"
    }
   ],
   "source": [
    "#Find out if you spent exactly 2000 dollars in any month\n",
    "2000 in exp"
   ]
  },
  {
   "cell_type": "code",
   "execution_count": 17,
   "metadata": {},
   "outputs": [
    {
     "name": "stdout",
     "output_type": "stream",
     "text": [
      "Added this item to our monthly expense lis= [2200, 2350, 2600, 2130, 2190, 1980]\n"
     ]
    }
   ],
   "source": [
    "#June month just finished and your expense is 1980 dollar. Add this item to our monthly expense list\n",
    "Month=[\"jan\",\"Feb\",\"March\",\"April\",\"May\"]\n",
    "exp = [2200,2350,2600,2130,2190]\n",
    "exp.append(1980)\n",
    "print(\"Added this item to our monthly expense lis=\",exp)\n"
   ]
  },
  {
   "cell_type": "code",
   "execution_count": 16,
   "metadata": {},
   "outputs": [
    {
     "name": "stdout",
     "output_type": "stream",
     "text": [
      "correction to your monthly expense list= [2200, 2350, 2600, 1930, 2190]\n"
     ]
    }
   ],
   "source": [
    "#You returned an item that you bought in a month of April and got a refund of 200$.\n",
    "#Make a correction to your monthly expense list based on this\n",
    "Month=[\"jan\",\"Feb\",\"March\",\"April\",\"May\"]\n",
    "exp = [2200,2350,2600,2130,2190]\n",
    "exp[3]=exp[3]-200\n",
    "print(\"correction to your monthly expense list=\",exp)"
   ]
  },
  {
   "cell_type": "code",
   "execution_count": 18,
   "metadata": {},
   "outputs": [
    {
     "name": "stdout",
     "output_type": "stream",
     "text": [
      "5\n"
     ]
    }
   ],
   "source": [
    "#Question:2\n",
    "#You have a list of your favourite marvel super heros.\n",
    "#heros=['spider man','thor','hulk','iron man','captain america']\n",
    "\n",
    "#Length of the list\n",
    "heros=['spider man','thor','hulk','iron man','captain america']\n",
    "print(len(heros))"
   ]
  },
  {
   "cell_type": "code",
   "execution_count": 30,
   "metadata": {},
   "outputs": [
    {
     "name": "stdout",
     "output_type": "stream",
     "text": [
      "Added 'black panther in the list= ['spider man', 'thor', 'hulk', 'iron man', 'captain america', 'black panther']\n"
     ]
    }
   ],
   "source": [
    "#Add 'black panther' at the end of this list\n",
    "heros=['spider man','thor','hulk','iron man','captain america']\n",
    "heros.append(\"black panther\")\n",
    "print(\"Added 'black panther in the list=\",heros)"
   ]
  },
  {
   "cell_type": "code",
   "execution_count": 34,
   "metadata": {},
   "outputs": [
    {
     "name": "stdout",
     "output_type": "stream",
     "text": [
      "['spider man', 'thor', 'hulk', 'black panther', 'iron man', 'captain america']\n"
     ]
    }
   ],
   "source": [
    "#You realize that you need to add 'black panther' after 'hulk',so remove it from the list first and then add it after 'hulk'\n",
    "heros=['spider man', 'thor', 'hulk', 'iron man', 'captain america']\n",
    "heros.insert(3,\"black panther\")\n",
    "print(heros)\n"
   ]
  },
  {
   "cell_type": "code",
   "execution_count": 54,
   "metadata": {},
   "outputs": [
    {
     "name": "stdout",
     "output_type": "stream",
     "text": [
      "['spider man', 'doctor strange', 'iron man', 'captain america']\n"
     ]
    }
   ],
   "source": [
    "#4. Now you don't like thor and hulk because they get angry easily :)\n",
    "#So you want to remove thor and hulk from list and replace them with doctor strange (because he is cool).\n",
    "#Do that with one line of code.\n",
    "heros=['spider man', 'thor', 'hulk', 'iron man', 'captain america']\n",
    "heros[1:3]=[\"doctor strange\"]\n",
    "print(heros)"
   ]
  },
  {
   "cell_type": "code",
   "execution_count": 55,
   "metadata": {},
   "outputs": [
    {
     "name": "stdout",
     "output_type": "stream",
     "text": [
      "['captain america', 'hulk', 'iron man', 'spider man', 'thor']\n"
     ]
    }
   ],
   "source": [
    "#5 Sort the heros list in alphabetical order (Hint. Use dir() functions to list down all functions available in list)\n",
    "heros=['spider man', 'thor', 'hulk', 'iron man', 'captain america']\n",
    "heros.sort()\n",
    "print(heros)"
   ]
  },
  {
   "cell_type": "code",
   "execution_count": 72,
   "metadata": {},
   "outputs": [
    {
     "name": "stdout",
     "output_type": "stream",
     "text": [
      "['spider man', 'thor', 'hulk', 'black panther', 'captain america']\n",
      "['spider man', 'thor', 'hulk', 'captain america']\n",
      "['spider man', 'black panther', 'hulk', 'captain america']\n"
     ]
    }
   ],
   "source": [
    "# add 'black panther' after 'hulk', then remove it from the list first and then add it after 'spider man'\n",
    "heros=['spider man','thor','hulk','iron man','captain america']\n",
    "heros[3]=\"black panther\"\n",
    "print(heros)\n",
    "heros.remove(\"black panther\")\n",
    "print(heros)\n",
    "heros[1]=\"black panther\"\n",
    "print(heros)"
   ]
  },
  {
   "cell_type": "code",
   "execution_count": null,
   "metadata": {},
   "outputs": [],
   "source": []
  }
 ],
 "metadata": {
  "kernelspec": {
   "display_name": "Python 3",
   "language": "python",
   "name": "python3"
  },
  "language_info": {
   "codemirror_mode": {
    "name": "ipython",
    "version": 3
   },
   "file_extension": ".py",
   "mimetype": "text/x-python",
   "name": "python",
   "nbconvert_exporter": "python",
   "pygments_lexer": "ipython3",
   "version": "3.8.3"
  }
 },
 "nbformat": 4,
 "nbformat_minor": 4
}
